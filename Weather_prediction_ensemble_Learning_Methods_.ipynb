{
  "cells": [
    {
      "cell_type": "markdown",
      "source": [
        "# Weather prediction-Ensemble Methods"
      ],
      "metadata": {
        "id": "yxTgibddyZhL"
      },
      "id": "yxTgibddyZhL"
    },
    {
      "cell_type": "markdown",
      "source": [
        "https://www.kaggle.com/datasets/ananthr1/weather-prediction"
      ],
      "metadata": {
        "id": "cMpstKVDyWyU"
      },
      "id": "cMpstKVDyWyU"
    },
    {
      "cell_type": "markdown",
      "id": "3a461593",
      "metadata": {
        "papermill": {
          "duration": 0.046765,
          "end_time": "2022-01-20T02:34:35.606586",
          "exception": false,
          "start_time": "2022-01-20T02:34:35.559821",
          "status": "completed"
        },
        "tags": [],
        "id": "3a461593"
      },
      "source": [
        "**Objective of this Notebook:**\n",
        "\n",
        "***This notebook aims to:***\n",
        "* Easy and ***Begginers guide***.\n",
        "* Analyse Each and Every ***Attributes*** in the data set.\n",
        "* Build Various ***ML Models*** with the view of ***increasing accuracy*** of the Model.\n",
        "\n",
        "\n",
        "The ***Machine learning Models used*** are:\n",
        "\n",
        "    1.K-Nearest Neighbour(KNN)\n",
        "    \n",
        "    2.Support Vector Machine(SVM)\n",
        "    \n",
        "    3.Gradient Boost\n",
        "    \n",
        "    4.Extreme Gradient Boosting(XGBC)"
      ]
    },
    {
      "cell_type": "markdown",
      "id": "e9d185bf",
      "metadata": {
        "papermill": {
          "duration": 0.05231,
          "end_time": "2022-01-20T02:34:35.818307",
          "exception": false,
          "start_time": "2022-01-20T02:34:35.765997",
          "status": "completed"
        },
        "tags": [],
        "id": "e9d185bf"
      },
      "source": [
        "# 2.**IMPORTING THE REQUIRED LIBRARIES**"
      ]
    },
    {
      "cell_type": "code",
      "execution_count": 54,
      "id": "020616d2",
      "metadata": {
        "execution": {
          "iopub.execute_input": "2022-01-20T02:34:35.926922Z",
          "iopub.status.busy": "2022-01-20T02:34:35.926281Z",
          "iopub.status.idle": "2022-01-20T02:34:37.411726Z",
          "shell.execute_reply": "2022-01-20T02:34:37.412244Z",
          "shell.execute_reply.started": "2022-01-19T17:25:37.562298Z"
        },
        "papermill": {
          "duration": 1.539745,
          "end_time": "2022-01-20T02:34:37.412420",
          "exception": false,
          "start_time": "2022-01-20T02:34:35.872675",
          "status": "completed"
        },
        "tags": [],
        "id": "020616d2"
      },
      "outputs": [],
      "source": [
        "import matplotlib.pyplot as plt\n",
        "import pandas as pd\n",
        "import seaborn as sns\n",
        "from sklearn.preprocessing import StandardScaler,LabelEncoder\n",
        "from sklearn.model_selection import train_test_split\n",
        "from sklearn.neighbors import KNeighborsClassifier\n",
        "from sklearn.svm import SVC\n",
        "\n",
        "from sklearn.metrics import accuracy_score"
      ]
    },
    {
      "cell_type": "markdown",
      "id": "7d36594f",
      "metadata": {
        "papermill": {
          "duration": 0.045774,
          "end_time": "2022-01-20T02:34:37.504615",
          "exception": false,
          "start_time": "2022-01-20T02:34:37.458841",
          "status": "completed"
        },
        "tags": [],
        "id": "7d36594f"
      },
      "source": [
        "# 3.**ANALYSING THE DATASET**"
      ]
    },
    {
      "cell_type": "markdown",
      "id": "f0c0064d",
      "metadata": {
        "papermill": {
          "duration": 0.045762,
          "end_time": "2022-01-20T02:34:37.597191",
          "exception": false,
          "start_time": "2022-01-20T02:34:37.551429",
          "status": "completed"
        },
        "tags": [],
        "id": "f0c0064d"
      },
      "source": [
        "There are **6 Variables** in this Dataset:\n",
        "* **4 Continuous** Variables.\n",
        "* **1 Variable** to accommodate the Date.\n",
        "* **1 Variable** refers the Weather."
      ]
    },
    {
      "cell_type": "code",
      "execution_count": 55,
      "id": "b64181b9",
      "metadata": {
        "execution": {
          "iopub.execute_input": "2022-01-20T02:34:37.695453Z",
          "iopub.status.busy": "2022-01-20T02:34:37.694871Z",
          "iopub.status.idle": "2022-01-20T02:34:37.732466Z",
          "shell.execute_reply": "2022-01-20T02:34:37.732941Z",
          "shell.execute_reply.started": "2022-01-19T17:19:51.330672Z"
        },
        "papermill": {
          "duration": 0.088913,
          "end_time": "2022-01-20T02:34:37.733108",
          "exception": false,
          "start_time": "2022-01-20T02:34:37.644195",
          "status": "completed"
        },
        "tags": [],
        "colab": {
          "base_uri": "https://localhost:8080/",
          "height": 206
        },
        "id": "b64181b9",
        "outputId": "142b4c56-c53d-407e-f19d-e978dce04c7a"
      },
      "outputs": [
        {
          "output_type": "execute_result",
          "data": {
            "text/plain": [
              "         date  precipitation  temp_max  temp_min  wind  weather\n",
              "0  2012-01-01            0.0      12.8       5.0   4.7  drizzle\n",
              "1  2012-01-02           10.9      10.6       2.8   4.5     rain\n",
              "2  2012-01-03            0.8      11.7       7.2   2.3     rain\n",
              "3  2012-01-04           20.3      12.2       5.6   4.7     rain\n",
              "4  2012-01-05            1.3       8.9       2.8   6.1     rain"
            ],
            "text/html": [
              "\n",
              "  <div id=\"df-cf35cff9-6c8f-45e2-a96d-4ab5a49fcab3\" class=\"colab-df-container\">\n",
              "    <div>\n",
              "<style scoped>\n",
              "    .dataframe tbody tr th:only-of-type {\n",
              "        vertical-align: middle;\n",
              "    }\n",
              "\n",
              "    .dataframe tbody tr th {\n",
              "        vertical-align: top;\n",
              "    }\n",
              "\n",
              "    .dataframe thead th {\n",
              "        text-align: right;\n",
              "    }\n",
              "</style>\n",
              "<table border=\"1\" class=\"dataframe\">\n",
              "  <thead>\n",
              "    <tr style=\"text-align: right;\">\n",
              "      <th></th>\n",
              "      <th>date</th>\n",
              "      <th>precipitation</th>\n",
              "      <th>temp_max</th>\n",
              "      <th>temp_min</th>\n",
              "      <th>wind</th>\n",
              "      <th>weather</th>\n",
              "    </tr>\n",
              "  </thead>\n",
              "  <tbody>\n",
              "    <tr>\n",
              "      <th>0</th>\n",
              "      <td>2012-01-01</td>\n",
              "      <td>0.0</td>\n",
              "      <td>12.8</td>\n",
              "      <td>5.0</td>\n",
              "      <td>4.7</td>\n",
              "      <td>drizzle</td>\n",
              "    </tr>\n",
              "    <tr>\n",
              "      <th>1</th>\n",
              "      <td>2012-01-02</td>\n",
              "      <td>10.9</td>\n",
              "      <td>10.6</td>\n",
              "      <td>2.8</td>\n",
              "      <td>4.5</td>\n",
              "      <td>rain</td>\n",
              "    </tr>\n",
              "    <tr>\n",
              "      <th>2</th>\n",
              "      <td>2012-01-03</td>\n",
              "      <td>0.8</td>\n",
              "      <td>11.7</td>\n",
              "      <td>7.2</td>\n",
              "      <td>2.3</td>\n",
              "      <td>rain</td>\n",
              "    </tr>\n",
              "    <tr>\n",
              "      <th>3</th>\n",
              "      <td>2012-01-04</td>\n",
              "      <td>20.3</td>\n",
              "      <td>12.2</td>\n",
              "      <td>5.6</td>\n",
              "      <td>4.7</td>\n",
              "      <td>rain</td>\n",
              "    </tr>\n",
              "    <tr>\n",
              "      <th>4</th>\n",
              "      <td>2012-01-05</td>\n",
              "      <td>1.3</td>\n",
              "      <td>8.9</td>\n",
              "      <td>2.8</td>\n",
              "      <td>6.1</td>\n",
              "      <td>rain</td>\n",
              "    </tr>\n",
              "  </tbody>\n",
              "</table>\n",
              "</div>\n",
              "    <div class=\"colab-df-buttons\">\n",
              "\n",
              "  <div class=\"colab-df-container\">\n",
              "    <button class=\"colab-df-convert\" onclick=\"convertToInteractive('df-cf35cff9-6c8f-45e2-a96d-4ab5a49fcab3')\"\n",
              "            title=\"Convert this dataframe to an interactive table.\"\n",
              "            style=\"display:none;\">\n",
              "\n",
              "  <svg xmlns=\"http://www.w3.org/2000/svg\" height=\"24px\" viewBox=\"0 -960 960 960\">\n",
              "    <path d=\"M120-120v-720h720v720H120Zm60-500h600v-160H180v160Zm220 220h160v-160H400v160Zm0 220h160v-160H400v160ZM180-400h160v-160H180v160Zm440 0h160v-160H620v160ZM180-180h160v-160H180v160Zm440 0h160v-160H620v160Z\"/>\n",
              "  </svg>\n",
              "    </button>\n",
              "\n",
              "  <style>\n",
              "    .colab-df-container {\n",
              "      display:flex;\n",
              "      gap: 12px;\n",
              "    }\n",
              "\n",
              "    .colab-df-convert {\n",
              "      background-color: #E8F0FE;\n",
              "      border: none;\n",
              "      border-radius: 50%;\n",
              "      cursor: pointer;\n",
              "      display: none;\n",
              "      fill: #1967D2;\n",
              "      height: 32px;\n",
              "      padding: 0 0 0 0;\n",
              "      width: 32px;\n",
              "    }\n",
              "\n",
              "    .colab-df-convert:hover {\n",
              "      background-color: #E2EBFA;\n",
              "      box-shadow: 0px 1px 2px rgba(60, 64, 67, 0.3), 0px 1px 3px 1px rgba(60, 64, 67, 0.15);\n",
              "      fill: #174EA6;\n",
              "    }\n",
              "\n",
              "    .colab-df-buttons div {\n",
              "      margin-bottom: 4px;\n",
              "    }\n",
              "\n",
              "    [theme=dark] .colab-df-convert {\n",
              "      background-color: #3B4455;\n",
              "      fill: #D2E3FC;\n",
              "    }\n",
              "\n",
              "    [theme=dark] .colab-df-convert:hover {\n",
              "      background-color: #434B5C;\n",
              "      box-shadow: 0px 1px 3px 1px rgba(0, 0, 0, 0.15);\n",
              "      filter: drop-shadow(0px 1px 2px rgba(0, 0, 0, 0.3));\n",
              "      fill: #FFFFFF;\n",
              "    }\n",
              "  </style>\n",
              "\n",
              "    <script>\n",
              "      const buttonEl =\n",
              "        document.querySelector('#df-cf35cff9-6c8f-45e2-a96d-4ab5a49fcab3 button.colab-df-convert');\n",
              "      buttonEl.style.display =\n",
              "        google.colab.kernel.accessAllowed ? 'block' : 'none';\n",
              "\n",
              "      async function convertToInteractive(key) {\n",
              "        const element = document.querySelector('#df-cf35cff9-6c8f-45e2-a96d-4ab5a49fcab3');\n",
              "        const dataTable =\n",
              "          await google.colab.kernel.invokeFunction('convertToInteractive',\n",
              "                                                    [key], {});\n",
              "        if (!dataTable) return;\n",
              "\n",
              "        const docLinkHtml = 'Like what you see? Visit the ' +\n",
              "          '<a target=\"_blank\" href=https://colab.research.google.com/notebooks/data_table.ipynb>data table notebook</a>'\n",
              "          + ' to learn more about interactive tables.';\n",
              "        element.innerHTML = '';\n",
              "        dataTable['output_type'] = 'display_data';\n",
              "        await google.colab.output.renderOutput(dataTable, element);\n",
              "        const docLink = document.createElement('div');\n",
              "        docLink.innerHTML = docLinkHtml;\n",
              "        element.appendChild(docLink);\n",
              "      }\n",
              "    </script>\n",
              "  </div>\n",
              "\n",
              "\n",
              "<div id=\"df-d6504551-b8c9-4edd-ba45-735a98343c8d\">\n",
              "  <button class=\"colab-df-quickchart\" onclick=\"quickchart('df-d6504551-b8c9-4edd-ba45-735a98343c8d')\"\n",
              "            title=\"Suggest charts.\"\n",
              "            style=\"display:none;\">\n",
              "\n",
              "<svg xmlns=\"http://www.w3.org/2000/svg\" height=\"24px\"viewBox=\"0 0 24 24\"\n",
              "     width=\"24px\">\n",
              "    <g>\n",
              "        <path d=\"M19 3H5c-1.1 0-2 .9-2 2v14c0 1.1.9 2 2 2h14c1.1 0 2-.9 2-2V5c0-1.1-.9-2-2-2zM9 17H7v-7h2v7zm4 0h-2V7h2v10zm4 0h-2v-4h2v4z\"/>\n",
              "    </g>\n",
              "</svg>\n",
              "  </button>\n",
              "\n",
              "<style>\n",
              "  .colab-df-quickchart {\n",
              "      --bg-color: #E8F0FE;\n",
              "      --fill-color: #1967D2;\n",
              "      --hover-bg-color: #E2EBFA;\n",
              "      --hover-fill-color: #174EA6;\n",
              "      --disabled-fill-color: #AAA;\n",
              "      --disabled-bg-color: #DDD;\n",
              "  }\n",
              "\n",
              "  [theme=dark] .colab-df-quickchart {\n",
              "      --bg-color: #3B4455;\n",
              "      --fill-color: #D2E3FC;\n",
              "      --hover-bg-color: #434B5C;\n",
              "      --hover-fill-color: #FFFFFF;\n",
              "      --disabled-bg-color: #3B4455;\n",
              "      --disabled-fill-color: #666;\n",
              "  }\n",
              "\n",
              "  .colab-df-quickchart {\n",
              "    background-color: var(--bg-color);\n",
              "    border: none;\n",
              "    border-radius: 50%;\n",
              "    cursor: pointer;\n",
              "    display: none;\n",
              "    fill: var(--fill-color);\n",
              "    height: 32px;\n",
              "    padding: 0;\n",
              "    width: 32px;\n",
              "  }\n",
              "\n",
              "  .colab-df-quickchart:hover {\n",
              "    background-color: var(--hover-bg-color);\n",
              "    box-shadow: 0 1px 2px rgba(60, 64, 67, 0.3), 0 1px 3px 1px rgba(60, 64, 67, 0.15);\n",
              "    fill: var(--button-hover-fill-color);\n",
              "  }\n",
              "\n",
              "  .colab-df-quickchart-complete:disabled,\n",
              "  .colab-df-quickchart-complete:disabled:hover {\n",
              "    background-color: var(--disabled-bg-color);\n",
              "    fill: var(--disabled-fill-color);\n",
              "    box-shadow: none;\n",
              "  }\n",
              "\n",
              "  .colab-df-spinner {\n",
              "    border: 2px solid var(--fill-color);\n",
              "    border-color: transparent;\n",
              "    border-bottom-color: var(--fill-color);\n",
              "    animation:\n",
              "      spin 1s steps(1) infinite;\n",
              "  }\n",
              "\n",
              "  @keyframes spin {\n",
              "    0% {\n",
              "      border-color: transparent;\n",
              "      border-bottom-color: var(--fill-color);\n",
              "      border-left-color: var(--fill-color);\n",
              "    }\n",
              "    20% {\n",
              "      border-color: transparent;\n",
              "      border-left-color: var(--fill-color);\n",
              "      border-top-color: var(--fill-color);\n",
              "    }\n",
              "    30% {\n",
              "      border-color: transparent;\n",
              "      border-left-color: var(--fill-color);\n",
              "      border-top-color: var(--fill-color);\n",
              "      border-right-color: var(--fill-color);\n",
              "    }\n",
              "    40% {\n",
              "      border-color: transparent;\n",
              "      border-right-color: var(--fill-color);\n",
              "      border-top-color: var(--fill-color);\n",
              "    }\n",
              "    60% {\n",
              "      border-color: transparent;\n",
              "      border-right-color: var(--fill-color);\n",
              "    }\n",
              "    80% {\n",
              "      border-color: transparent;\n",
              "      border-right-color: var(--fill-color);\n",
              "      border-bottom-color: var(--fill-color);\n",
              "    }\n",
              "    90% {\n",
              "      border-color: transparent;\n",
              "      border-bottom-color: var(--fill-color);\n",
              "    }\n",
              "  }\n",
              "</style>\n",
              "\n",
              "  <script>\n",
              "    async function quickchart(key) {\n",
              "      const quickchartButtonEl =\n",
              "        document.querySelector('#' + key + ' button');\n",
              "      quickchartButtonEl.disabled = true;  // To prevent multiple clicks.\n",
              "      quickchartButtonEl.classList.add('colab-df-spinner');\n",
              "      try {\n",
              "        const charts = await google.colab.kernel.invokeFunction(\n",
              "            'suggestCharts', [key], {});\n",
              "      } catch (error) {\n",
              "        console.error('Error during call to suggestCharts:', error);\n",
              "      }\n",
              "      quickchartButtonEl.classList.remove('colab-df-spinner');\n",
              "      quickchartButtonEl.classList.add('colab-df-quickchart-complete');\n",
              "    }\n",
              "    (() => {\n",
              "      let quickchartButtonEl =\n",
              "        document.querySelector('#df-d6504551-b8c9-4edd-ba45-735a98343c8d button');\n",
              "      quickchartButtonEl.style.display =\n",
              "        google.colab.kernel.accessAllowed ? 'block' : 'none';\n",
              "    })();\n",
              "  </script>\n",
              "</div>\n",
              "    </div>\n",
              "  </div>\n"
            ]
          },
          "metadata": {},
          "execution_count": 55
        }
      ],
      "source": [
        "data=pd.read_csv(\"seattle-weather.csv\")\n",
        "data.head()"
      ]
    },
    {
      "cell_type": "code",
      "execution_count": 56,
      "id": "5426a3e3",
      "metadata": {
        "execution": {
          "iopub.execute_input": "2022-01-20T02:34:37.832202Z",
          "iopub.status.busy": "2022-01-20T02:34:37.831358Z",
          "iopub.status.idle": "2022-01-20T02:34:37.835012Z",
          "shell.execute_reply": "2022-01-20T02:34:37.834434Z",
          "shell.execute_reply.started": "2022-01-19T17:19:51.359556Z"
        },
        "papermill": {
          "duration": 0.055306,
          "end_time": "2022-01-20T02:34:37.835143",
          "exception": false,
          "start_time": "2022-01-20T02:34:37.779837",
          "status": "completed"
        },
        "tags": [],
        "colab": {
          "base_uri": "https://localhost:8080/"
        },
        "id": "5426a3e3",
        "outputId": "35a74f3f-64c1-48f8-d095-43f883a2dc76"
      },
      "outputs": [
        {
          "output_type": "execute_result",
          "data": {
            "text/plain": [
              "(1461, 6)"
            ]
          },
          "metadata": {},
          "execution_count": 56
        }
      ],
      "source": [
        "data.shape"
      ]
    },
    {
      "cell_type": "markdown",
      "id": "6165514e",
      "metadata": {
        "papermill": {
          "duration": 0.046407,
          "end_time": "2022-01-20T02:34:37.929439",
          "exception": false,
          "start_time": "2022-01-20T02:34:37.883032",
          "status": "completed"
        },
        "tags": [],
        "id": "6165514e"
      },
      "source": [
        "As of it has **6 Columns** with total of **1461 Rows** as our observations in the Data set."
      ]
    },
    {
      "cell_type": "markdown",
      "id": "8e17024a",
      "metadata": {
        "papermill": {
          "duration": 0.046633,
          "end_time": "2022-01-20T02:34:38.022920",
          "exception": false,
          "start_time": "2022-01-20T02:34:37.976287",
          "status": "completed"
        },
        "tags": [],
        "id": "8e17024a"
      },
      "source": [
        "# 4.**DATA EXPLORATION**"
      ]
    },
    {
      "cell_type": "markdown",
      "id": "a691d4e2",
      "metadata": {
        "papermill": {
          "duration": 0.047824,
          "end_time": "2022-01-20T02:34:38.117739",
          "exception": false,
          "start_time": "2022-01-20T02:34:38.069915",
          "status": "completed"
        },
        "tags": [],
        "id": "a691d4e2"
      },
      "source": [
        "It is the process of Exploring the data from the **\"RAW\"** data set tha we have taken or Imported.\n",
        "\n",
        "First let us Deal with the Categorical variables"
      ]
    },
    {
      "cell_type": "code",
      "execution_count": 57,
      "id": "ef80be7c",
      "metadata": {
        "execution": {
          "iopub.execute_input": "2022-01-20T02:34:38.216617Z",
          "iopub.status.busy": "2022-01-20T02:34:38.215656Z",
          "iopub.status.idle": "2022-01-20T02:34:38.445791Z",
          "shell.execute_reply": "2022-01-20T02:34:38.445311Z",
          "shell.execute_reply.started": "2022-01-19T17:19:51.367978Z"
        },
        "papermill": {
          "duration": 0.279805,
          "end_time": "2022-01-20T02:34:38.445940",
          "exception": false,
          "start_time": "2022-01-20T02:34:38.166135",
          "status": "completed"
        },
        "tags": [],
        "colab": {
          "base_uri": "https://localhost:8080/",
          "height": 466
        },
        "id": "ef80be7c",
        "outputId": "450216b8-bedf-4a50-8918-0ee758895c57"
      },
      "outputs": [
        {
          "output_type": "execute_result",
          "data": {
            "text/plain": [
              "<Axes: xlabel='weather', ylabel='count'>"
            ]
          },
          "metadata": {},
          "execution_count": 57
        },
        {
          "output_type": "display_data",
          "data": {
            "text/plain": [
              "<Figure size 640x480 with 1 Axes>"
            ],
            "image/png": "[encoded data removed]"
          },
          "metadata": {}
        }
      ],
      "source": [
        "import warnings\n",
        "warnings.filterwarnings('ignore')\n",
        "sns.countplot(x=\"weather\", data=data, palette=\"hls\")"
      ]
    },
    {
      "cell_type": "markdown",
      "id": "18ed3a58",
      "metadata": {
        "papermill": {
          "duration": 0.047409,
          "end_time": "2022-01-20T02:34:38.750836",
          "exception": false,
          "start_time": "2022-01-20T02:34:38.703427",
          "status": "completed"
        },
        "tags": [],
        "id": "18ed3a58"
      },
      "source": [
        "# 5.**NUMERICAL OR CONTINUOUS VARIABLES**\n",
        "\n",
        "  Next we will explore the ***Continuous variables***"
      ]
    },
    {
      "cell_type": "code",
      "execution_count": 58,
      "id": "fc4901bb",
      "metadata": {
        "execution": {
          "iopub.execute_input": "2022-01-20T02:34:38.851617Z",
          "iopub.status.busy": "2022-01-20T02:34:38.850697Z",
          "iopub.status.idle": "2022-01-20T02:34:38.873137Z",
          "shell.execute_reply": "2022-01-20T02:34:38.873598Z",
          "shell.execute_reply.started": "2022-01-19T17:19:51.608956Z"
        },
        "papermill": {
          "duration": 0.074386,
          "end_time": "2022-01-20T02:34:38.873778",
          "exception": false,
          "start_time": "2022-01-20T02:34:38.799392",
          "status": "completed"
        },
        "tags": [],
        "colab": {
          "base_uri": "https://localhost:8080/",
          "height": 300
        },
        "id": "fc4901bb",
        "outputId": "b0a9d92c-97f8-40c0-dd54-b52072604496"
      },
      "outputs": [
        {
          "output_type": "execute_result",
          "data": {
            "text/plain": [
              "       precipitation     temp_max     temp_min         wind\n",
              "count    1461.000000  1461.000000  1461.000000  1461.000000\n",
              "mean        3.029432    16.439083     8.234771     3.241136\n",
              "std         6.680194     7.349758     5.023004     1.437825\n",
              "min         0.000000    -1.600000    -7.100000     0.400000\n",
              "25%         0.000000    10.600000     4.400000     2.200000\n",
              "50%         0.000000    15.600000     8.300000     3.000000\n",
              "75%         2.800000    22.200000    12.200000     4.000000\n",
              "max        55.900000    35.600000    18.300000     9.500000"
            ],
            "text/html": [
              "\n",
              "  <div id=\"df-99c67684-8662-4ad8-bfc9-b448e1548e30\" class=\"colab-df-container\">\n",
              "    <div>\n",
              "<style scoped>\n",
              "    .dataframe tbody tr th:only-of-type {\n",
              "        vertical-align: middle;\n",
              "    }\n",
              "\n",
              "    .dataframe tbody tr th {\n",
              "        vertical-align: top;\n",
              "    }\n",
              "\n",
              "    .dataframe thead th {\n",
              "        text-align: right;\n",
              "    }\n",
              "</style>\n",
              "<table border=\"1\" class=\"dataframe\">\n",
              "  <thead>\n",
              "    <tr style=\"text-align: right;\">\n",
              "      <th></th>\n",
              "      <th>precipitation</th>\n",
              "      <th>temp_max</th>\n",
              "      <th>temp_min</th>\n",
              "      <th>wind</th>\n",
              "    </tr>\n",
              "  </thead>\n",
              "  <tbody>\n",
              "    <tr>\n",
              "      <th>count</th>\n",
              "      <td>1461.000000</td>\n",
              "      <td>1461.000000</td>\n",
              "      <td>1461.000000</td>\n",
              "      <td>1461.000000</td>\n",
              "    </tr>\n",
              "    <tr>\n",
              "      <th>mean</th>\n",
              "      <td>3.029432</td>\n",
              "      <td>16.439083</td>\n",
              "      <td>8.234771</td>\n",
              "      <td>3.241136</td>\n",
              "    </tr>\n",
              "    <tr>\n",
              "      <th>std</th>\n",
              "      <td>6.680194</td>\n",
              "      <td>7.349758</td>\n",
              "      <td>5.023004</td>\n",
              "      <td>1.437825</td>\n",
              "    </tr>\n",
              "    <tr>\n",
              "      <th>min</th>\n",
              "      <td>0.000000</td>\n",
              "      <td>-1.600000</td>\n",
              "      <td>-7.100000</td>\n",
              "      <td>0.400000</td>\n",
              "    </tr>\n",
              "    <tr>\n",
              "      <th>25%</th>\n",
              "      <td>0.000000</td>\n",
              "      <td>10.600000</td>\n",
              "      <td>4.400000</td>\n",
              "      <td>2.200000</td>\n",
              "    </tr>\n",
              "    <tr>\n",
              "      <th>50%</th>\n",
              "      <td>0.000000</td>\n",
              "      <td>15.600000</td>\n",
              "      <td>8.300000</td>\n",
              "      <td>3.000000</td>\n",
              "    </tr>\n",
              "    <tr>\n",
              "      <th>75%</th>\n",
              "      <td>2.800000</td>\n",
              "      <td>22.200000</td>\n",
              "      <td>12.200000</td>\n",
              "      <td>4.000000</td>\n",
              "    </tr>\n",
              "    <tr>\n",
              "      <th>max</th>\n",
              "      <td>55.900000</td>\n",
              "      <td>35.600000</td>\n",
              "      <td>18.300000</td>\n",
              "      <td>9.500000</td>\n",
              "    </tr>\n",
              "  </tbody>\n",
              "</table>\n",
              "</div>\n",
              "    <div class=\"colab-df-buttons\">\n",
              "\n",
              "  <div class=\"colab-df-container\">\n",
              "    <button class=\"colab-df-convert\" onclick=\"convertToInteractive('df-99c67684-8662-4ad8-bfc9-b448e1548e30')\"\n",
              "            title=\"Convert this dataframe to an interactive table.\"\n",
              "            style=\"display:none;\">\n",
              "\n",
              "  <svg xmlns=\"http://www.w3.org/2000/svg\" height=\"24px\" viewBox=\"0 -960 960 960\">\n",
              "    <path d=\"M120-120v-720h720v720H120Zm60-500h600v-160H180v160Zm220 220h160v-160H400v160Zm0 220h160v-160H400v160ZM180-400h160v-160H180v160Zm440 0h160v-160H620v160ZM180-180h160v-160H180v160Zm440 0h160v-160H620v160Z\"/>\n",
              "  </svg>\n",
              "    </button>\n",
              "\n",
              "  <style>\n",
              "    .colab-df-container {\n",
              "      display:flex;\n",
              "      gap: 12px;\n",
              "    }\n",
              "\n",
              "    .colab-df-convert {\n",
              "      background-color: #E8F0FE;\n",
              "      border: none;\n",
              "      border-radius: 50%;\n",
              "      cursor: pointer;\n",
              "      display: none;\n",
              "      fill: #1967D2;\n",
              "      height: 32px;\n",
              "      padding: 0 0 0 0;\n",
              "      width: 32px;\n",
              "    }\n",
              "\n",
              "    .colab-df-convert:hover {\n",
              "      background-color: #E2EBFA;\n",
              "      box-shadow: 0px 1px 2px rgba(60, 64, 67, 0.3), 0px 1px 3px 1px rgba(60, 64, 67, 0.15);\n",
              "      fill: #174EA6;\n",
              "    }\n",
              "\n",
              "    .colab-df-buttons div {\n",
              "      margin-bottom: 4px;\n",
              "    }\n",
              "\n",
              "    [theme=dark] .colab-df-convert {\n",
              "      background-color: #3B4455;\n",
              "      fill: #D2E3FC;\n",
              "    }\n",
              "\n",
              "    [theme=dark] .colab-df-convert:hover {\n",
              "      background-color: #434B5C;\n",
              "      box-shadow: 0px 1px 3px 1px rgba(0, 0, 0, 0.15);\n",
              "      filter: drop-shadow(0px 1px 2px rgba(0, 0, 0, 0.3));\n",
              "      fill: #FFFFFF;\n",
              "    }\n",
              "  </style>\n",
              "\n",
              "    <script>\n",
              "      const buttonEl =\n",
              "        document.querySelector('#df-99c67684-8662-4ad8-bfc9-b448e1548e30 button.colab-df-convert');\n",
              "      buttonEl.style.display =\n",
              "        google.colab.kernel.accessAllowed ? 'block' : 'none';\n",
              "\n",
              "      async function convertToInteractive(key) {\n",
              "        const element = document.querySelector('#df-99c67684-8662-4ad8-bfc9-b448e1548e30');\n",
              "        const dataTable =\n",
              "          await google.colab.kernel.invokeFunction('convertToInteractive',\n",
              "                                                    [key], {});\n",
              "        if (!dataTable) return;\n",
              "\n",
              "        const docLinkHtml = 'Like what you see? Visit the ' +\n",
              "          '<a target=\"_blank\" href=https://colab.research.google.com/notebooks/data_table.ipynb>data table notebook</a>'\n",
              "          + ' to learn more about interactive tables.';\n",
              "        element.innerHTML = '';\n",
              "        dataTable['output_type'] = 'display_data';\n",
              "        await google.colab.output.renderOutput(dataTable, element);\n",
              "        const docLink = document.createElement('div');\n",
              "        docLink.innerHTML = docLinkHtml;\n",
              "        element.appendChild(docLink);\n",
              "      }\n",
              "    </script>\n",
              "  </div>\n",
              "\n",
              "\n",
              "<div id=\"df-2f233611-1ecd-4c0b-8c5b-5de7c98a21af\">\n",
              "  <button class=\"colab-df-quickchart\" onclick=\"quickchart('df-2f233611-1ecd-4c0b-8c5b-5de7c98a21af')\"\n",
              "            title=\"Suggest charts.\"\n",
              "            style=\"display:none;\">\n",
              "\n",
              "<svg xmlns=\"http://www.w3.org/2000/svg\" height=\"24px\"viewBox=\"0 0 24 24\"\n",
              "     width=\"24px\">\n",
              "    <g>\n",
              "        <path d=\"M19 3H5c-1.1 0-2 .9-2 2v14c0 1.1.9 2 2 2h14c1.1 0 2-.9 2-2V5c0-1.1-.9-2-2-2zM9 17H7v-7h2v7zm4 0h-2V7h2v10zm4 0h-2v-4h2v4z\"/>\n",
              "    </g>\n",
              "</svg>\n",
              "  </button>\n",
              "\n",
              "<style>\n",
              "  .colab-df-quickchart {\n",
              "      --bg-color: #E8F0FE;\n",
              "      --fill-color: #1967D2;\n",
              "      --hover-bg-color: #E2EBFA;\n",
              "      --hover-fill-color: #174EA6;\n",
              "      --disabled-fill-color: #AAA;\n",
              "      --disabled-bg-color: #DDD;\n",
              "  }\n",
              "\n",
              "  [theme=dark] .colab-df-quickchart {\n",
              "      --bg-color: #3B4455;\n",
              "      --fill-color: #D2E3FC;\n",
              "      --hover-bg-color: #434B5C;\n",
              "      --hover-fill-color: #FFFFFF;\n",
              "      --disabled-bg-color: #3B4455;\n",
              "      --disabled-fill-color: #666;\n",
              "  }\n",
              "\n",
              "  .colab-df-quickchart {\n",
              "    background-color: var(--bg-color);\n",
              "    border: none;\n",
              "    border-radius: 50%;\n",
              "    cursor: pointer;\n",
              "    display: none;\n",
              "    fill: var(--fill-color);\n",
              "    height: 32px;\n",
              "    padding: 0;\n",
              "    width: 32px;\n",
              "  }\n",
              "\n",
              "  .colab-df-quickchart:hover {\n",
              "    background-color: var(--hover-bg-color);\n",
              "    box-shadow: 0 1px 2px rgba(60, 64, 67, 0.3), 0 1px 3px 1px rgba(60, 64, 67, 0.15);\n",
              "    fill: var(--button-hover-fill-color);\n",
              "  }\n",
              "\n",
              "  .colab-df-quickchart-complete:disabled,\n",
              "  .colab-df-quickchart-complete:disabled:hover {\n",
              "    background-color: var(--disabled-bg-color);\n",
              "    fill: var(--disabled-fill-color);\n",
              "    box-shadow: none;\n",
              "  }\n",
              "\n",
              "  .colab-df-spinner {\n",
              "    border: 2px solid var(--fill-color);\n",
              "    border-color: transparent;\n",
              "    border-bottom-color: var(--fill-color);\n",
              "    animation:\n",
              "      spin 1s steps(1) infinite;\n",
              "  }\n",
              "\n",
              "  @keyframes spin {\n",
              "    0% {\n",
              "      border-color: transparent;\n",
              "      border-bottom-color: var(--fill-color);\n",
              "      border-left-color: var(--fill-color);\n",
              "    }\n",
              "    20% {\n",
              "      border-color: transparent;\n",
              "      border-left-color: var(--fill-color);\n",
              "      border-top-color: var(--fill-color);\n",
              "    }\n",
              "    30% {\n",
              "      border-color: transparent;\n",
              "      border-left-color: var(--fill-color);\n",
              "      border-top-color: var(--fill-color);\n",
              "      border-right-color: var(--fill-color);\n",
              "    }\n",
              "    40% {\n",
              "      border-color: transparent;\n",
              "      border-right-color: var(--fill-color);\n",
              "      border-top-color: var(--fill-color);\n",
              "    }\n",
              "    60% {\n",
              "      border-color: transparent;\n",
              "      border-right-color: var(--fill-color);\n",
              "    }\n",
              "    80% {\n",
              "      border-color: transparent;\n",
              "      border-right-color: var(--fill-color);\n",
              "      border-bottom-color: var(--fill-color);\n",
              "    }\n",
              "    90% {\n",
              "      border-color: transparent;\n",
              "      border-bottom-color: var(--fill-color);\n",
              "    }\n",
              "  }\n",
              "</style>\n",
              "\n",
              "  <script>\n",
              "    async function quickchart(key) {\n",
              "      const quickchartButtonEl =\n",
              "        document.querySelector('#' + key + ' button');\n",
              "      quickchartButtonEl.disabled = true;  // To prevent multiple clicks.\n",
              "      quickchartButtonEl.classList.add('colab-df-spinner');\n",
              "      try {\n",
              "        const charts = await google.colab.kernel.invokeFunction(\n",
              "            'suggestCharts', [key], {});\n",
              "      } catch (error) {\n",
              "        console.error('Error during call to suggestCharts:', error);\n",
              "      }\n",
              "      quickchartButtonEl.classList.remove('colab-df-spinner');\n",
              "      quickchartButtonEl.classList.add('colab-df-quickchart-complete');\n",
              "    }\n",
              "    (() => {\n",
              "      let quickchartButtonEl =\n",
              "        document.querySelector('#df-2f233611-1ecd-4c0b-8c5b-5de7c98a21af button');\n",
              "      quickchartButtonEl.style.display =\n",
              "        google.colab.kernel.accessAllowed ? 'block' : 'none';\n",
              "    })();\n",
              "  </script>\n",
              "</div>\n",
              "    </div>\n",
              "  </div>\n"
            ]
          },
          "metadata": {},
          "execution_count": 58
        }
      ],
      "source": [
        "data.describe()"
      ]
    },
    {
      "cell_type": "markdown",
      "id": "26fd925a",
      "metadata": {
        "papermill": {
          "duration": 0.061618,
          "end_time": "2022-01-20T02:34:45.943121",
          "exception": false,
          "start_time": "2022-01-20T02:34:45.881503",
          "status": "completed"
        },
        "tags": [],
        "id": "26fd925a"
      },
      "source": [
        "# 7.NULL VALUES:"
      ]
    },
    {
      "cell_type": "code",
      "execution_count": 59,
      "id": "a06ca504",
      "metadata": {
        "execution": {
          "iopub.execute_input": "2022-01-20T02:34:46.072917Z",
          "iopub.status.busy": "2022-01-20T02:34:46.072242Z",
          "iopub.status.idle": "2022-01-20T02:34:46.077385Z",
          "shell.execute_reply": "2022-01-20T02:34:46.077798Z",
          "shell.execute_reply.started": "2022-01-19T17:19:56.426737Z"
        },
        "papermill": {
          "duration": 0.073206,
          "end_time": "2022-01-20T02:34:46.077966",
          "exception": false,
          "start_time": "2022-01-20T02:34:46.004760",
          "status": "completed"
        },
        "tags": [],
        "colab": {
          "base_uri": "https://localhost:8080/"
        },
        "id": "a06ca504",
        "outputId": "83d7b1da-b5b1-4bcf-e200-13b76f50b862"
      },
      "outputs": [
        {
          "output_type": "execute_result",
          "data": {
            "text/plain": [
              "date             0\n",
              "precipitation    0\n",
              "temp_max         0\n",
              "temp_min         0\n",
              "wind             0\n",
              "weather          0\n",
              "dtype: int64"
            ]
          },
          "metadata": {},
          "execution_count": 59
        }
      ],
      "source": [
        "data.isna().sum()"
      ]
    },
    {
      "cell_type": "markdown",
      "id": "c7b377aa",
      "metadata": {
        "papermill": {
          "duration": 0.062561,
          "end_time": "2022-01-20T02:34:47.075364",
          "exception": false,
          "start_time": "2022-01-20T02:34:47.012803",
          "status": "completed"
        },
        "tags": [],
        "id": "c7b377aa"
      },
      "source": [
        "# 8.DATA PREPROCESSING:"
      ]
    },
    {
      "cell_type": "markdown",
      "id": "9968824c",
      "metadata": {
        "papermill": {
          "duration": 0.063945,
          "end_time": "2022-01-20T02:34:47.203848",
          "exception": false,
          "start_time": "2022-01-20T02:34:47.139903",
          "status": "completed"
        },
        "tags": [],
        "id": "9968824c"
      },
      "source": [
        "**Drop Unnecessary Variables**\n",
        "\n",
        "In this data set Date is a unnecessary variable as it does not affect the data so it can be dropped."
      ]
    },
    {
      "cell_type": "code",
      "execution_count": 60,
      "id": "01a7068b",
      "metadata": {
        "execution": {
          "iopub.execute_input": "2022-01-20T02:34:47.332976Z",
          "iopub.status.busy": "2022-01-20T02:34:47.332286Z",
          "iopub.status.idle": "2022-01-20T02:34:47.336798Z",
          "shell.execute_reply": "2022-01-20T02:34:47.337246Z",
          "shell.execute_reply.started": "2022-01-19T17:19:57.071661Z"
        },
        "papermill": {
          "duration": 0.070257,
          "end_time": "2022-01-20T02:34:47.337418",
          "exception": false,
          "start_time": "2022-01-20T02:34:47.267161",
          "status": "completed"
        },
        "tags": [],
        "id": "01a7068b"
      },
      "outputs": [],
      "source": [
        "df=data.drop([\"date\"],axis=1)"
      ]
    },
    {
      "cell_type": "code",
      "execution_count": 61,
      "id": "dee53799",
      "metadata": {
        "execution": {
          "iopub.execute_input": "2022-01-20T02:34:49.137305Z",
          "iopub.status.busy": "2022-01-20T02:34:49.136086Z",
          "iopub.status.idle": "2022-01-20T02:34:49.148673Z",
          "shell.execute_reply": "2022-01-20T02:34:49.149464Z",
          "shell.execute_reply.started": "2022-01-19T17:19:58.052632Z"
        },
        "papermill": {
          "duration": 0.081581,
          "end_time": "2022-01-20T02:34:49.149731",
          "exception": false,
          "start_time": "2022-01-20T02:34:49.068150",
          "status": "completed"
        },
        "tags": [],
        "colab": {
          "base_uri": "https://localhost:8080/",
          "height": 206
        },
        "id": "dee53799",
        "outputId": "ed09ad70-fd31-425c-b9d1-515047afb4f0"
      },
      "outputs": [
        {
          "output_type": "execute_result",
          "data": {
            "text/plain": [
              "   precipitation  temp_max  temp_min  wind  weather\n",
              "0            0.0      12.8       5.0   4.7  drizzle\n",
              "1           10.9      10.6       2.8   4.5     rain\n",
              "2            0.8      11.7       7.2   2.3     rain\n",
              "3           20.3      12.2       5.6   4.7     rain\n",
              "4            1.3       8.9       2.8   6.1     rain"
            ],
            "text/html": [
              "\n",
              "  <div id=\"df-9b47e943-f2ad-4b57-9b63-821f092880b4\" class=\"colab-df-container\">\n",
              "    <div>\n",
              "<style scoped>\n",
              "    .dataframe tbody tr th:only-of-type {\n",
              "        vertical-align: middle;\n",
              "    }\n",
              "\n",
              "    .dataframe tbody tr th {\n",
              "        vertical-align: top;\n",
              "    }\n",
              "\n",
              "    .dataframe thead th {\n",
              "        text-align: right;\n",
              "    }\n",
              "</style>\n",
              "<table border=\"1\" class=\"dataframe\">\n",
              "  <thead>\n",
              "    <tr style=\"text-align: right;\">\n",
              "      <th></th>\n",
              "      <th>precipitation</th>\n",
              "      <th>temp_max</th>\n",
              "      <th>temp_min</th>\n",
              "      <th>wind</th>\n",
              "      <th>weather</th>\n",
              "    </tr>\n",
              "  </thead>\n",
              "  <tbody>\n",
              "    <tr>\n",
              "      <th>0</th>\n",
              "      <td>0.0</td>\n",
              "      <td>12.8</td>\n",
              "      <td>5.0</td>\n",
              "      <td>4.7</td>\n",
              "      <td>drizzle</td>\n",
              "    </tr>\n",
              "    <tr>\n",
              "      <th>1</th>\n",
              "      <td>10.9</td>\n",
              "      <td>10.6</td>\n",
              "      <td>2.8</td>\n",
              "      <td>4.5</td>\n",
              "      <td>rain</td>\n",
              "    </tr>\n",
              "    <tr>\n",
              "      <th>2</th>\n",
              "      <td>0.8</td>\n",
              "      <td>11.7</td>\n",
              "      <td>7.2</td>\n",
              "      <td>2.3</td>\n",
              "      <td>rain</td>\n",
              "    </tr>\n",
              "    <tr>\n",
              "      <th>3</th>\n",
              "      <td>20.3</td>\n",
              "      <td>12.2</td>\n",
              "      <td>5.6</td>\n",
              "      <td>4.7</td>\n",
              "      <td>rain</td>\n",
              "    </tr>\n",
              "    <tr>\n",
              "      <th>4</th>\n",
              "      <td>1.3</td>\n",
              "      <td>8.9</td>\n",
              "      <td>2.8</td>\n",
              "      <td>6.1</td>\n",
              "      <td>rain</td>\n",
              "    </tr>\n",
              "  </tbody>\n",
              "</table>\n",
              "</div>\n",
              "    <div class=\"colab-df-buttons\">\n",
              "\n",
              "  <div class=\"colab-df-container\">\n",
              "    <button class=\"colab-df-convert\" onclick=\"convertToInteractive('df-9b47e943-f2ad-4b57-9b63-821f092880b4')\"\n",
              "            title=\"Convert this dataframe to an interactive table.\"\n",
              "            style=\"display:none;\">\n",
              "\n",
              "  <svg xmlns=\"http://www.w3.org/2000/svg\" height=\"24px\" viewBox=\"0 -960 960 960\">\n",
              "    <path d=\"M120-120v-720h720v720H120Zm60-500h600v-160H180v160Zm220 220h160v-160H400v160Zm0 220h160v-160H400v160ZM180-400h160v-160H180v160Zm440 0h160v-160H620v160ZM180-180h160v-160H180v160Zm440 0h160v-160H620v160Z\"/>\n",
              "  </svg>\n",
              "    </button>\n",
              "\n",
              "  <style>\n",
              "    .colab-df-container {\n",
              "      display:flex;\n",
              "      gap: 12px;\n",
              "    }\n",
              "\n",
              "    .colab-df-convert {\n",
              "      background-color: #E8F0FE;\n",
              "      border: none;\n",
              "      border-radius: 50%;\n",
              "      cursor: pointer;\n",
              "      display: none;\n",
              "      fill: #1967D2;\n",
              "      height: 32px;\n",
              "      padding: 0 0 0 0;\n",
              "      width: 32px;\n",
              "    }\n",
              "\n",
              "    .colab-df-convert:hover {\n",
              "      background-color: #E2EBFA;\n",
              "      box-shadow: 0px 1px 2px rgba(60, 64, 67, 0.3), 0px 1px 3px 1px rgba(60, 64, 67, 0.15);\n",
              "      fill: #174EA6;\n",
              "    }\n",
              "\n",
              "    .colab-df-buttons div {\n",
              "      margin-bottom: 4px;\n",
              "    }\n",
              "\n",
              "    [theme=dark] .colab-df-convert {\n",
              "      background-color: #3B4455;\n",
              "      fill: #D2E3FC;\n",
              "    }\n",
              "\n",
              "    [theme=dark] .colab-df-convert:hover {\n",
              "      background-color: #434B5C;\n",
              "      box-shadow: 0px 1px 3px 1px rgba(0, 0, 0, 0.15);\n",
              "      filter: drop-shadow(0px 1px 2px rgba(0, 0, 0, 0.3));\n",
              "      fill: #FFFFFF;\n",
              "    }\n",
              "  </style>\n",
              "\n",
              "    <script>\n",
              "      const buttonEl =\n",
              "        document.querySelector('#df-9b47e943-f2ad-4b57-9b63-821f092880b4 button.colab-df-convert');\n",
              "      buttonEl.style.display =\n",
              "        google.colab.kernel.accessAllowed ? 'block' : 'none';\n",
              "\n",
              "      async function convertToInteractive(key) {\n",
              "        const element = document.querySelector('#df-9b47e943-f2ad-4b57-9b63-821f092880b4');\n",
              "        const dataTable =\n",
              "          await google.colab.kernel.invokeFunction('convertToInteractive',\n",
              "                                                    [key], {});\n",
              "        if (!dataTable) return;\n",
              "\n",
              "        const docLinkHtml = 'Like what you see? Visit the ' +\n",
              "          '<a target=\"_blank\" href=https://colab.research.google.com/notebooks/data_table.ipynb>data table notebook</a>'\n",
              "          + ' to learn more about interactive tables.';\n",
              "        element.innerHTML = '';\n",
              "        dataTable['output_type'] = 'display_data';\n",
              "        await google.colab.output.renderOutput(dataTable, element);\n",
              "        const docLink = document.createElement('div');\n",
              "        docLink.innerHTML = docLinkHtml;\n",
              "        element.appendChild(docLink);\n",
              "      }\n",
              "    </script>\n",
              "  </div>\n",
              "\n",
              "\n",
              "<div id=\"df-96026910-b106-424f-9e60-23472ce75d89\">\n",
              "  <button class=\"colab-df-quickchart\" onclick=\"quickchart('df-96026910-b106-424f-9e60-23472ce75d89')\"\n",
              "            title=\"Suggest charts.\"\n",
              "            style=\"display:none;\">\n",
              "\n",
              "<svg xmlns=\"http://www.w3.org/2000/svg\" height=\"24px\"viewBox=\"0 0 24 24\"\n",
              "     width=\"24px\">\n",
              "    <g>\n",
              "        <path d=\"M19 3H5c-1.1 0-2 .9-2 2v14c0 1.1.9 2 2 2h14c1.1 0 2-.9 2-2V5c0-1.1-.9-2-2-2zM9 17H7v-7h2v7zm4 0h-2V7h2v10zm4 0h-2v-4h2v4z\"/>\n",
              "    </g>\n",
              "</svg>\n",
              "  </button>\n",
              "\n",
              "<style>\n",
              "  .colab-df-quickchart {\n",
              "      --bg-color: #E8F0FE;\n",
              "      --fill-color: #1967D2;\n",
              "      --hover-bg-color: #E2EBFA;\n",
              "      --hover-fill-color: #174EA6;\n",
              "      --disabled-fill-color: #AAA;\n",
              "      --disabled-bg-color: #DDD;\n",
              "  }\n",
              "\n",
              "  [theme=dark] .colab-df-quickchart {\n",
              "      --bg-color: #3B4455;\n",
              "      --fill-color: #D2E3FC;\n",
              "      --hover-bg-color: #434B5C;\n",
              "      --hover-fill-color: #FFFFFF;\n",
              "      --disabled-bg-color: #3B4455;\n",
              "      --disabled-fill-color: #666;\n",
              "  }\n",
              "\n",
              "  .colab-df-quickchart {\n",
              "    background-color: var(--bg-color);\n",
              "    border: none;\n",
              "    border-radius: 50%;\n",
              "    cursor: pointer;\n",
              "    display: none;\n",
              "    fill: var(--fill-color);\n",
              "    height: 32px;\n",
              "    padding: 0;\n",
              "    width: 32px;\n",
              "  }\n",
              "\n",
              "  .colab-df-quickchart:hover {\n",
              "    background-color: var(--hover-bg-color);\n",
              "    box-shadow: 0 1px 2px rgba(60, 64, 67, 0.3), 0 1px 3px 1px rgba(60, 64, 67, 0.15);\n",
              "    fill: var(--button-hover-fill-color);\n",
              "  }\n",
              "\n",
              "  .colab-df-quickchart-complete:disabled,\n",
              "  .colab-df-quickchart-complete:disabled:hover {\n",
              "    background-color: var(--disabled-bg-color);\n",
              "    fill: var(--disabled-fill-color);\n",
              "    box-shadow: none;\n",
              "  }\n",
              "\n",
              "  .colab-df-spinner {\n",
              "    border: 2px solid var(--fill-color);\n",
              "    border-color: transparent;\n",
              "    border-bottom-color: var(--fill-color);\n",
              "    animation:\n",
              "      spin 1s steps(1) infinite;\n",
              "  }\n",
              "\n",
              "  @keyframes spin {\n",
              "    0% {\n",
              "      border-color: transparent;\n",
              "      border-bottom-color: var(--fill-color);\n",
              "      border-left-color: var(--fill-color);\n",
              "    }\n",
              "    20% {\n",
              "      border-color: transparent;\n",
              "      border-left-color: var(--fill-color);\n",
              "      border-top-color: var(--fill-color);\n",
              "    }\n",
              "    30% {\n",
              "      border-color: transparent;\n",
              "      border-left-color: var(--fill-color);\n",
              "      border-top-color: var(--fill-color);\n",
              "      border-right-color: var(--fill-color);\n",
              "    }\n",
              "    40% {\n",
              "      border-color: transparent;\n",
              "      border-right-color: var(--fill-color);\n",
              "      border-top-color: var(--fill-color);\n",
              "    }\n",
              "    60% {\n",
              "      border-color: transparent;\n",
              "      border-right-color: var(--fill-color);\n",
              "    }\n",
              "    80% {\n",
              "      border-color: transparent;\n",
              "      border-right-color: var(--fill-color);\n",
              "      border-bottom-color: var(--fill-color);\n",
              "    }\n",
              "    90% {\n",
              "      border-color: transparent;\n",
              "      border-bottom-color: var(--fill-color);\n",
              "    }\n",
              "  }\n",
              "</style>\n",
              "\n",
              "  <script>\n",
              "    async function quickchart(key) {\n",
              "      const quickchartButtonEl =\n",
              "        document.querySelector('#' + key + ' button');\n",
              "      quickchartButtonEl.disabled = true;  // To prevent multiple clicks.\n",
              "      quickchartButtonEl.classList.add('colab-df-spinner');\n",
              "      try {\n",
              "        const charts = await google.colab.kernel.invokeFunction(\n",
              "            'suggestCharts', [key], {});\n",
              "      } catch (error) {\n",
              "        console.error('Error during call to suggestCharts:', error);\n",
              "      }\n",
              "      quickchartButtonEl.classList.remove('colab-df-spinner');\n",
              "      quickchartButtonEl.classList.add('colab-df-quickchart-complete');\n",
              "    }\n",
              "    (() => {\n",
              "      let quickchartButtonEl =\n",
              "        document.querySelector('#df-96026910-b106-424f-9e60-23472ce75d89 button');\n",
              "      quickchartButtonEl.style.display =\n",
              "        google.colab.kernel.accessAllowed ? 'block' : 'none';\n",
              "    })();\n",
              "  </script>\n",
              "</div>\n",
              "    </div>\n",
              "  </div>\n"
            ]
          },
          "metadata": {},
          "execution_count": 61
        }
      ],
      "source": [
        "df.head()"
      ]
    },
    {
      "cell_type": "markdown",
      "id": "153072e8",
      "metadata": {
        "papermill": {
          "duration": 0.067429,
          "end_time": "2022-01-20T02:34:49.283887",
          "exception": false,
          "start_time": "2022-01-20T02:34:49.216458",
          "status": "completed"
        },
        "tags": [],
        "id": "153072e8"
      },
      "source": [
        "***Scaling the weather variables using label Encoder:***"
      ]
    },
    {
      "cell_type": "code",
      "execution_count": 62,
      "id": "a8a7cd3a",
      "metadata": {
        "execution": {
          "iopub.execute_input": "2022-01-20T02:34:49.420628Z",
          "iopub.status.busy": "2022-01-20T02:34:49.419922Z",
          "iopub.status.idle": "2022-01-20T02:34:49.422547Z",
          "shell.execute_reply": "2022-01-20T02:34:49.422102Z",
          "shell.execute_reply.started": "2022-01-19T17:19:58.068454Z"
        },
        "papermill": {
          "duration": 0.073293,
          "end_time": "2022-01-20T02:34:49.422705",
          "exception": false,
          "start_time": "2022-01-20T02:34:49.349412",
          "status": "completed"
        },
        "tags": [],
        "id": "a8a7cd3a"
      },
      "outputs": [],
      "source": [
        "lc=LabelEncoder()\n",
        "df[\"weather\"]=lc.fit_transform(df[\"weather\"])"
      ]
    },
    {
      "cell_type": "code",
      "execution_count": 63,
      "id": "db01626e",
      "metadata": {
        "execution": {
          "iopub.execute_input": "2022-01-20T02:34:49.561927Z",
          "iopub.status.busy": "2022-01-20T02:34:49.556911Z",
          "iopub.status.idle": "2022-01-20T02:34:49.569125Z",
          "shell.execute_reply": "2022-01-20T02:34:49.568623Z",
          "shell.execute_reply.started": "2022-01-19T17:19:58.083945Z"
        },
        "papermill": {
          "duration": 0.081201,
          "end_time": "2022-01-20T02:34:49.569255",
          "exception": false,
          "start_time": "2022-01-20T02:34:49.488054",
          "status": "completed"
        },
        "tags": [],
        "colab": {
          "base_uri": "https://localhost:8080/",
          "height": 206
        },
        "id": "db01626e",
        "outputId": "14163f13-109d-4af5-af4a-e1fba1caaa6d"
      },
      "outputs": [
        {
          "output_type": "execute_result",
          "data": {
            "text/plain": [
              "   precipitation  temp_max  temp_min  wind  weather\n",
              "0            0.0      12.8       5.0   4.7        0\n",
              "1           10.9      10.6       2.8   4.5        2\n",
              "2            0.8      11.7       7.2   2.3        2\n",
              "3           20.3      12.2       5.6   4.7        2\n",
              "4            1.3       8.9       2.8   6.1        2"
            ],
            "text/html": [
              "\n",
              "  <div id=\"df-a165a773-0466-4611-9c82-21284edaddf7\" class=\"colab-df-container\">\n",
              "    <div>\n",
              "<style scoped>\n",
              "    .dataframe tbody tr th:only-of-type {\n",
              "        vertical-align: middle;\n",
              "    }\n",
              "\n",
              "    .dataframe tbody tr th {\n",
              "        vertical-align: top;\n",
              "    }\n",
              "\n",
              "    .dataframe thead th {\n",
              "        text-align: right;\n",
              "    }\n",
              "</style>\n",
              "<table border=\"1\" class=\"dataframe\">\n",
              "  <thead>\n",
              "    <tr style=\"text-align: right;\">\n",
              "      <th></th>\n",
              "      <th>precipitation</th>\n",
              "      <th>temp_max</th>\n",
              "      <th>temp_min</th>\n",
              "      <th>wind</th>\n",
              "      <th>weather</th>\n",
              "    </tr>\n",
              "  </thead>\n",
              "  <tbody>\n",
              "    <tr>\n",
              "      <th>0</th>\n",
              "      <td>0.0</td>\n",
              "      <td>12.8</td>\n",
              "      <td>5.0</td>\n",
              "      <td>4.7</td>\n",
              "      <td>0</td>\n",
              "    </tr>\n",
              "    <tr>\n",
              "      <th>1</th>\n",
              "      <td>10.9</td>\n",
              "      <td>10.6</td>\n",
              "      <td>2.8</td>\n",
              "      <td>4.5</td>\n",
              "      <td>2</td>\n",
              "    </tr>\n",
              "    <tr>\n",
              "      <th>2</th>\n",
              "      <td>0.8</td>\n",
              "      <td>11.7</td>\n",
              "      <td>7.2</td>\n",
              "      <td>2.3</td>\n",
              "      <td>2</td>\n",
              "    </tr>\n",
              "    <tr>\n",
              "      <th>3</th>\n",
              "      <td>20.3</td>\n",
              "      <td>12.2</td>\n",
              "      <td>5.6</td>\n",
              "      <td>4.7</td>\n",
              "      <td>2</td>\n",
              "    </tr>\n",
              "    <tr>\n",
              "      <th>4</th>\n",
              "      <td>1.3</td>\n",
              "      <td>8.9</td>\n",
              "      <td>2.8</td>\n",
              "      <td>6.1</td>\n",
              "      <td>2</td>\n",
              "    </tr>\n",
              "  </tbody>\n",
              "</table>\n",
              "</div>\n",
              "    <div class=\"colab-df-buttons\">\n",
              "\n",
              "  <div class=\"colab-df-container\">\n",
              "    <button class=\"colab-df-convert\" onclick=\"convertToInteractive('df-a165a773-0466-4611-9c82-21284edaddf7')\"\n",
              "            title=\"Convert this dataframe to an interactive table.\"\n",
              "            style=\"display:none;\">\n",
              "\n",
              "  <svg xmlns=\"http://www.w3.org/2000/svg\" height=\"24px\" viewBox=\"0 -960 960 960\">\n",
              "    <path d=\"M120-120v-720h720v720H120Zm60-500h600v-160H180v160Zm220 220h160v-160H400v160Zm0 220h160v-160H400v160ZM180-400h160v-160H180v160Zm440 0h160v-160H620v160ZM180-180h160v-160H180v160Zm440 0h160v-160H620v160Z\"/>\n",
              "  </svg>\n",
              "    </button>\n",
              "\n",
              "  <style>\n",
              "    .colab-df-container {\n",
              "      display:flex;\n",
              "      gap: 12px;\n",
              "    }\n",
              "\n",
              "    .colab-df-convert {\n",
              "      background-color: #E8F0FE;\n",
              "      border: none;\n",
              "      border-radius: 50%;\n",
              "      cursor: pointer;\n",
              "      display: none;\n",
              "      fill: #1967D2;\n",
              "      height: 32px;\n",
              "      padding: 0 0 0 0;\n",
              "      width: 32px;\n",
              "    }\n",
              "\n",
              "    .colab-df-convert:hover {\n",
              "      background-color: #E2EBFA;\n",
              "      box-shadow: 0px 1px 2px rgba(60, 64, 67, 0.3), 0px 1px 3px 1px rgba(60, 64, 67, 0.15);\n",
              "      fill: #174EA6;\n",
              "    }\n",
              "\n",
              "    .colab-df-buttons div {\n",
              "      margin-bottom: 4px;\n",
              "    }\n",
              "\n",
              "    [theme=dark] .colab-df-convert {\n",
              "      background-color: #3B4455;\n",
              "      fill: #D2E3FC;\n",
              "    }\n",
              "\n",
              "    [theme=dark] .colab-df-convert:hover {\n",
              "      background-color: #434B5C;\n",
              "      box-shadow: 0px 1px 3px 1px rgba(0, 0, 0, 0.15);\n",
              "      filter: drop-shadow(0px 1px 2px rgba(0, 0, 0, 0.3));\n",
              "      fill: #FFFFFF;\n",
              "    }\n",
              "  </style>\n",
              "\n",
              "    <script>\n",
              "      const buttonEl =\n",
              "        document.querySelector('#df-a165a773-0466-4611-9c82-21284edaddf7 button.colab-df-convert');\n",
              "      buttonEl.style.display =\n",
              "        google.colab.kernel.accessAllowed ? 'block' : 'none';\n",
              "\n",
              "      async function convertToInteractive(key) {\n",
              "        const element = document.querySelector('#df-a165a773-0466-4611-9c82-21284edaddf7');\n",
              "        const dataTable =\n",
              "          await google.colab.kernel.invokeFunction('convertToInteractive',\n",
              "                                                    [key], {});\n",
              "        if (!dataTable) return;\n",
              "\n",
              "        const docLinkHtml = 'Like what you see? Visit the ' +\n",
              "          '<a target=\"_blank\" href=https://colab.research.google.com/notebooks/data_table.ipynb>data table notebook</a>'\n",
              "          + ' to learn more about interactive tables.';\n",
              "        element.innerHTML = '';\n",
              "        dataTable['output_type'] = 'display_data';\n",
              "        await google.colab.output.renderOutput(dataTable, element);\n",
              "        const docLink = document.createElement('div');\n",
              "        docLink.innerHTML = docLinkHtml;\n",
              "        element.appendChild(docLink);\n",
              "      }\n",
              "    </script>\n",
              "  </div>\n",
              "\n",
              "\n",
              "<div id=\"df-ee5a8913-3563-48c4-8da4-d08faed98780\">\n",
              "  <button class=\"colab-df-quickchart\" onclick=\"quickchart('df-ee5a8913-3563-48c4-8da4-d08faed98780')\"\n",
              "            title=\"Suggest charts.\"\n",
              "            style=\"display:none;\">\n",
              "\n",
              "<svg xmlns=\"http://www.w3.org/2000/svg\" height=\"24px\"viewBox=\"0 0 24 24\"\n",
              "     width=\"24px\">\n",
              "    <g>\n",
              "        <path d=\"M19 3H5c-1.1 0-2 .9-2 2v14c0 1.1.9 2 2 2h14c1.1 0 2-.9 2-2V5c0-1.1-.9-2-2-2zM9 17H7v-7h2v7zm4 0h-2V7h2v10zm4 0h-2v-4h2v4z\"/>\n",
              "    </g>\n",
              "</svg>\n",
              "  </button>\n",
              "\n",
              "<style>\n",
              "  .colab-df-quickchart {\n",
              "      --bg-color: #E8F0FE;\n",
              "      --fill-color: #1967D2;\n",
              "      --hover-bg-color: #E2EBFA;\n",
              "      --hover-fill-color: #174EA6;\n",
              "      --disabled-fill-color: #AAA;\n",
              "      --disabled-bg-color: #DDD;\n",
              "  }\n",
              "\n",
              "  [theme=dark] .colab-df-quickchart {\n",
              "      --bg-color: #3B4455;\n",
              "      --fill-color: #D2E3FC;\n",
              "      --hover-bg-color: #434B5C;\n",
              "      --hover-fill-color: #FFFFFF;\n",
              "      --disabled-bg-color: #3B4455;\n",
              "      --disabled-fill-color: #666;\n",
              "  }\n",
              "\n",
              "  .colab-df-quickchart {\n",
              "    background-color: var(--bg-color);\n",
              "    border: none;\n",
              "    border-radius: 50%;\n",
              "    cursor: pointer;\n",
              "    display: none;\n",
              "    fill: var(--fill-color);\n",
              "    height: 32px;\n",
              "    padding: 0;\n",
              "    width: 32px;\n",
              "  }\n",
              "\n",
              "  .colab-df-quickchart:hover {\n",
              "    background-color: var(--hover-bg-color);\n",
              "    box-shadow: 0 1px 2px rgba(60, 64, 67, 0.3), 0 1px 3px 1px rgba(60, 64, 67, 0.15);\n",
              "    fill: var(--button-hover-fill-color);\n",
              "  }\n",
              "\n",
              "  .colab-df-quickchart-complete:disabled,\n",
              "  .colab-df-quickchart-complete:disabled:hover {\n",
              "    background-color: var(--disabled-bg-color);\n",
              "    fill: var(--disabled-fill-color);\n",
              "    box-shadow: none;\n",
              "  }\n",
              "\n",
              "  .colab-df-spinner {\n",
              "    border: 2px solid var(--fill-color);\n",
              "    border-color: transparent;\n",
              "    border-bottom-color: var(--fill-color);\n",
              "    animation:\n",
              "      spin 1s steps(1) infinite;\n",
              "  }\n",
              "\n",
              "  @keyframes spin {\n",
              "    0% {\n",
              "      border-color: transparent;\n",
              "      border-bottom-color: var(--fill-color);\n",
              "      border-left-color: var(--fill-color);\n",
              "    }\n",
              "    20% {\n",
              "      border-color: transparent;\n",
              "      border-left-color: var(--fill-color);\n",
              "      border-top-color: var(--fill-color);\n",
              "    }\n",
              "    30% {\n",
              "      border-color: transparent;\n",
              "      border-left-color: var(--fill-color);\n",
              "      border-top-color: var(--fill-color);\n",
              "      border-right-color: var(--fill-color);\n",
              "    }\n",
              "    40% {\n",
              "      border-color: transparent;\n",
              "      border-right-color: var(--fill-color);\n",
              "      border-top-color: var(--fill-color);\n",
              "    }\n",
              "    60% {\n",
              "      border-color: transparent;\n",
              "      border-right-color: var(--fill-color);\n",
              "    }\n",
              "    80% {\n",
              "      border-color: transparent;\n",
              "      border-right-color: var(--fill-color);\n",
              "      border-bottom-color: var(--fill-color);\n",
              "    }\n",
              "    90% {\n",
              "      border-color: transparent;\n",
              "      border-bottom-color: var(--fill-color);\n",
              "    }\n",
              "  }\n",
              "</style>\n",
              "\n",
              "  <script>\n",
              "    async function quickchart(key) {\n",
              "      const quickchartButtonEl =\n",
              "        document.querySelector('#' + key + ' button');\n",
              "      quickchartButtonEl.disabled = true;  // To prevent multiple clicks.\n",
              "      quickchartButtonEl.classList.add('colab-df-spinner');\n",
              "      try {\n",
              "        const charts = await google.colab.kernel.invokeFunction(\n",
              "            'suggestCharts', [key], {});\n",
              "      } catch (error) {\n",
              "        console.error('Error during call to suggestCharts:', error);\n",
              "      }\n",
              "      quickchartButtonEl.classList.remove('colab-df-spinner');\n",
              "      quickchartButtonEl.classList.add('colab-df-quickchart-complete');\n",
              "    }\n",
              "    (() => {\n",
              "      let quickchartButtonEl =\n",
              "        document.querySelector('#df-ee5a8913-3563-48c4-8da4-d08faed98780 button');\n",
              "      quickchartButtonEl.style.display =\n",
              "        google.colab.kernel.accessAllowed ? 'block' : 'none';\n",
              "    })();\n",
              "  </script>\n",
              "</div>\n",
              "    </div>\n",
              "  </div>\n"
            ]
          },
          "metadata": {},
          "execution_count": 63
        }
      ],
      "source": [
        "df.head()"
      ]
    },
    {
      "cell_type": "code",
      "source": [
        "X=df[['precipitation','temp_max','temp_min','wind']]\n",
        "y=df['weather']"
      ],
      "metadata": {
        "id": "O3hN6TZA24_X"
      },
      "id": "O3hN6TZA24_X",
      "execution_count": 64,
      "outputs": []
    },
    {
      "cell_type": "markdown",
      "id": "fd8d1c1f",
      "metadata": {
        "papermill": {
          "duration": 0.065187,
          "end_time": "2022-01-20T02:34:49.700798",
          "exception": false,
          "start_time": "2022-01-20T02:34:49.635611",
          "status": "completed"
        },
        "tags": [],
        "id": "fd8d1c1f"
      },
      "source": [
        "***SPLITTING THE DATASET INTO DEPENDANT AND INDEPENDANT VARIABLES:***"
      ]
    },
    {
      "cell_type": "code",
      "execution_count": 65,
      "id": "7696d246",
      "metadata": {
        "execution": {
          "iopub.execute_input": "2022-01-20T02:34:50.124414Z",
          "iopub.status.busy": "2022-01-20T02:34:50.123779Z",
          "iopub.status.idle": "2022-01-20T02:34:50.127905Z",
          "shell.execute_reply": "2022-01-20T02:34:50.128417Z",
          "shell.execute_reply.started": "2022-01-19T18:14:01.721335Z"
        },
        "papermill": {
          "duration": 0.077963,
          "end_time": "2022-01-20T02:34:50.128599",
          "exception": false,
          "start_time": "2022-01-20T02:34:50.050636",
          "status": "completed"
        },
        "tags": [],
        "id": "7696d246"
      },
      "outputs": [],
      "source": [
        "x_train,x_test,y_train,y_test=train_test_split(X,y,test_size=0.1,random_state=2)"
      ]
    },
    {
      "cell_type": "markdown",
      "id": "926ff5bc",
      "metadata": {
        "papermill": {
          "duration": 0.065657,
          "end_time": "2022-01-20T02:34:50.260554",
          "exception": false,
          "start_time": "2022-01-20T02:34:50.194897",
          "status": "completed"
        },
        "tags": [],
        "id": "926ff5bc"
      },
      "source": [
        "# 9.ALGORITHMS AND MODEL TRAINING:"
      ]
    },
    {
      "cell_type": "markdown",
      "id": "5254f2e7",
      "metadata": {
        "papermill": {
          "duration": 0.065713,
          "end_time": "2022-01-20T02:34:50.391676",
          "exception": false,
          "start_time": "2022-01-20T02:34:50.325963",
          "status": "completed"
        },
        "tags": [],
        "id": "5254f2e7"
      },
      "source": [
        "**K-NEAREST NEIGHBOR CLASSIFIER:**"
      ]
    },
    {
      "cell_type": "code",
      "execution_count": 66,
      "id": "0835d244",
      "metadata": {
        "execution": {
          "iopub.execute_input": "2022-01-20T02:34:50.526841Z",
          "iopub.status.busy": "2022-01-20T02:34:50.526176Z",
          "iopub.status.idle": "2022-01-20T02:34:50.539639Z",
          "shell.execute_reply": "2022-01-20T02:34:50.540077Z",
          "shell.execute_reply.started": "2022-01-19T18:14:04.504112Z"
        },
        "papermill": {
          "duration": 0.082871,
          "end_time": "2022-01-20T02:34:50.540250",
          "exception": false,
          "start_time": "2022-01-20T02:34:50.457379",
          "status": "completed"
        },
        "tags": [],
        "colab": {
          "base_uri": "https://localhost:8080/"
        },
        "id": "0835d244",
        "outputId": "fc46ba37-3b5e-4e58-9c67-d973a08ee0ea"
      },
      "outputs": [
        {
          "output_type": "stream",
          "name": "stdout",
          "text": [
            "KNN Accuracy:78.23%\n"
          ]
        }
      ],
      "source": [
        "knn=KNeighborsClassifier()\n",
        "knn.fit(x_train,y_train)\n",
        "print(\"KNN Accuracy:{:.2f}%\".format(knn.score(x_test,y_test)*100))"
      ]
    },
    {
      "cell_type": "markdown",
      "id": "28730c71",
      "metadata": {
        "papermill": {
          "duration": 0.142288,
          "end_time": "2022-01-20T02:34:50.750312",
          "exception": false,
          "start_time": "2022-01-20T02:34:50.608024",
          "status": "completed"
        },
        "tags": [],
        "id": "28730c71"
      },
      "source": [
        "**Logistic Regression - CLASSIFIER:**"
      ]
    },
    {
      "cell_type": "code",
      "execution_count": 67,
      "id": "16d15240",
      "metadata": {
        "execution": {
          "iopub.execute_input": "2022-01-20T02:34:50.888780Z",
          "iopub.status.busy": "2022-01-20T02:34:50.888093Z",
          "iopub.status.idle": "2022-01-20T02:34:50.935369Z",
          "shell.execute_reply": "2022-01-20T02:34:50.935796Z",
          "shell.execute_reply.started": "2022-01-19T18:14:07.063361Z"
        },
        "papermill": {
          "duration": 0.118784,
          "end_time": "2022-01-20T02:34:50.935976",
          "exception": false,
          "start_time": "2022-01-20T02:34:50.817192",
          "status": "completed"
        },
        "tags": [],
        "colab": {
          "base_uri": "https://localhost:8080/"
        },
        "id": "16d15240",
        "outputId": "b57bfd24-c2bc-4dbe-f73d-be27d6913f9a"
      },
      "outputs": [
        {
          "output_type": "stream",
          "name": "stdout",
          "text": [
            "Logistic Reression Accuracy:88.44%\n"
          ]
        }
      ],
      "source": [
        "from sklearn.linear_model import LogisticRegression\n",
        "logreg = LogisticRegression()\n",
        "logreg.fit(x_train, y_train)\n",
        "print(\"Logistic Reression Accuracy:{:.2f}%\".format(logreg.score(x_test,y_test)*100))"
      ]
    },
    {
      "cell_type": "markdown",
      "id": "dfa0a35b",
      "metadata": {
        "papermill": {
          "duration": 0.068009,
          "end_time": "2022-01-20T02:34:51.070496",
          "exception": false,
          "start_time": "2022-01-20T02:34:51.002487",
          "status": "completed"
        },
        "tags": [],
        "id": "dfa0a35b"
      },
      "source": [
        "**Decision Tree Classifier:**"
      ]
    },
    {
      "cell_type": "code",
      "execution_count": 68,
      "id": "a9eb70d1",
      "metadata": {
        "execution": {
          "iopub.execute_input": "2022-01-20T02:34:51.210015Z",
          "iopub.status.busy": "2022-01-20T02:34:51.209383Z",
          "iopub.status.idle": "2022-01-20T02:34:55.274213Z",
          "shell.execute_reply": "2022-01-20T02:34:55.274744Z",
          "shell.execute_reply.started": "2022-01-19T18:35:07.03469Z"
        },
        "papermill": {
          "duration": 4.136805,
          "end_time": "2022-01-20T02:34:55.274921",
          "exception": false,
          "start_time": "2022-01-20T02:34:51.138116",
          "status": "completed"
        },
        "tags": [],
        "colab": {
          "base_uri": "https://localhost:8080/"
        },
        "id": "a9eb70d1",
        "outputId": "572d0b4a-718b-4183-8d15-26acf5649724"
      },
      "outputs": [
        {
          "output_type": "stream",
          "name": "stdout",
          "text": [
            "Decision Tree Accuracy: 81.63%\n"
          ]
        }
      ],
      "source": [
        "from sklearn.tree import DecisionTreeClassifier\n",
        "\n",
        "dt = DecisionTreeClassifier()\n",
        "dt.fit(x_train, y_train)\n",
        "\n",
        "accuracy = dt.score(x_test, y_test)\n",
        "print(\"Decision Tree Accuracy: {:.2f}%\".format(accuracy * 100))"
      ]
    },
    {
      "cell_type": "code",
      "source": [
        "from sklearn.ensemble import VotingClassifier\n",
        "from sklearn.linear_model import LogisticRegression\n",
        "from sklearn.neighbors import KNeighborsClassifier\n",
        "from sklearn.tree import DecisionTreeClassifier\n",
        "\n",
        "# Initialize individual classifier models\n",
        "logreg = LogisticRegression()\n",
        "knn = KNeighborsClassifier()\n",
        "dt = DecisionTreeClassifier()\n",
        "\n",
        "# Create majority voting ensemble\n",
        "ensemble = VotingClassifier(estimators=[('logreg', logreg), ('knn', knn), ('dt', dt)], voting='hard')\n",
        "\n",
        "# Fit ensemble on data\n",
        "ensemble.fit(X, y)"
      ],
      "metadata": {
        "colab": {
          "base_uri": "https://localhost:8080/",
          "height": 110
        },
        "id": "fDDTndyh2abv",
        "outputId": "6379d4ad-3c5e-4865-e328-c655183f0c6b"
      },
      "id": "fDDTndyh2abv",
      "execution_count": 69,
      "outputs": [
        {
          "output_type": "execute_result",
          "data": {
            "text/plain": [
              "VotingClassifier(estimators=[('logreg', LogisticRegression()),\n",
              "                             ('knn', KNeighborsClassifier()),\n",
              "                             ('dt', DecisionTreeClassifier())])"
            ],
            "text/html": [
              "<style>#sk-container-id-3 {color: black;background-color: white;}#sk-container-id-3 pre{padding: 0;}#sk-container-id-3 div.sk-toggleable {background-color: white;}#sk-container-id-3 label.sk-toggleable__label {cursor: pointer;display: block;width: 100%;margin-bottom: 0;padding: 0.3em;box-sizing: border-box;text-align: center;}#sk-container-id-3 label.sk-toggleable__label-arrow:before {content: \"▸\";float: left;margin-right: 0.25em;color: #696969;}#sk-container-id-3 label.sk-toggleable__label-arrow:hover:before {color: black;}#sk-container-id-3 div.sk-estimator:hover label.sk-toggleable__label-arrow:before {color: black;}#sk-container-id-3 div.sk-toggleable__content {max-height: 0;max-width: 0;overflow: hidden;text-align: left;background-color: #f0f8ff;}#sk-container-id-3 div.sk-toggleable__content pre {margin: 0.2em;color: black;border-radius: 0.25em;background-color: #f0f8ff;}#sk-container-id-3 input.sk-toggleable__control:checked~div.sk-toggleable__content {max-height: 200px;max-width: 100%;overflow: auto;}#sk-container-id-3 input.sk-toggleable__control:checked~label.sk-toggleable__label-arrow:before {content: \"▾\";}#sk-container-id-3 div.sk-estimator input.sk-toggleable__control:checked~label.sk-toggleable__label {background-color: #d4ebff;}#sk-container-id-3 div.sk-label input.sk-toggleable__control:checked~label.sk-toggleable__label {background-color: #d4ebff;}#sk-container-id-3 input.sk-hidden--visually {border: 0;clip: rect(1px 1px 1px 1px);clip: rect(1px, 1px, 1px, 1px);height: 1px;margin: -1px;overflow: hidden;padding: 0;position: absolute;width: 1px;}#sk-container-id-3 div.sk-estimator {font-family: monospace;background-color: #f0f8ff;border: 1px dotted black;border-radius: 0.25em;box-sizing: border-box;margin-bottom: 0.5em;}#sk-container-id-3 div.sk-estimator:hover {background-color: #d4ebff;}#sk-container-id-3 div.sk-parallel-item::after {content: \"\";width: 100%;border-bottom: 1px solid gray;flex-grow: 1;}#sk-container-id-3 div.sk-label:hover label.sk-toggleable__label {background-color: #d4ebff;}#sk-container-id-3 div.sk-serial::before {content: \"\";position: absolute;border-left: 1px solid gray;box-sizing: border-box;top: 0;bottom: 0;left: 50%;z-index: 0;}#sk-container-id-3 div.sk-serial {display: flex;flex-direction: column;align-items: center;background-color: white;padding-right: 0.2em;padding-left: 0.2em;position: relative;}#sk-container-id-3 div.sk-item {position: relative;z-index: 1;}#sk-container-id-3 div.sk-parallel {display: flex;align-items: stretch;justify-content: center;background-color: white;position: relative;}#sk-container-id-3 div.sk-item::before, #sk-container-id-3 div.sk-parallel-item::before {content: \"\";position: absolute;border-left: 1px solid gray;box-sizing: border-box;top: 0;bottom: 0;left: 50%;z-index: -1;}#sk-container-id-3 div.sk-parallel-item {display: flex;flex-direction: column;z-index: 1;position: relative;background-color: white;}#sk-container-id-3 div.sk-parallel-item:first-child::after {align-self: flex-end;width: 50%;}#sk-container-id-3 div.sk-parallel-item:last-child::after {align-self: flex-start;width: 50%;}#sk-container-id-3 div.sk-parallel-item:only-child::after {width: 0;}#sk-container-id-3 div.sk-dashed-wrapped {border: 1px dashed gray;margin: 0 0.4em 0.5em 0.4em;box-sizing: border-box;padding-bottom: 0.4em;background-color: white;}#sk-container-id-3 div.sk-label label {font-family: monospace;font-weight: bold;display: inline-block;line-height: 1.2em;}#sk-container-id-3 div.sk-label-container {text-align: center;}#sk-container-id-3 div.sk-container {/* jupyter's `normalize.less` sets `[hidden] { display: none; }` but bootstrap.min.css set `[hidden] { display: none !important; }` so we also need the `!important` here to be able to override the default hidden behavior on the sphinx rendered scikit-learn.org. See: https://github.com/scikit-learn/scikit-learn/issues/21755 */display: inline-block !important;position: relative;}#sk-container-id-3 div.sk-text-repr-fallback {display: none;}</style><div id=\"sk-container-id-3\" class=\"sk-top-container\"><div class=\"sk-text-repr-fallback\"><pre>VotingClassifier(estimators=[(&#x27;logreg&#x27;, LogisticRegression()),\n",
              "                             (&#x27;knn&#x27;, KNeighborsClassifier()),\n",
              "                             (&#x27;dt&#x27;, DecisionTreeClassifier())])</pre><b>In a Jupyter environment, please rerun this cell to show the HTML representation or trust the notebook. <br />On GitHub, the HTML representation is unable to render, please try loading this page with nbviewer.org.</b></div><div class=\"sk-container\" hidden><div class=\"sk-item sk-dashed-wrapped\"><div class=\"sk-label-container\"><div class=\"sk-label sk-toggleable\"><input class=\"sk-toggleable__control sk-hidden--visually\" id=\"sk-estimator-id-9\" type=\"checkbox\" ><label for=\"sk-estimator-id-9\" class=\"sk-toggleable__label sk-toggleable__label-arrow\">VotingClassifier</label><div class=\"sk-toggleable__content\"><pre>VotingClassifier(estimators=[(&#x27;logreg&#x27;, LogisticRegression()),\n",
              "                             (&#x27;knn&#x27;, KNeighborsClassifier()),\n",
              "                             (&#x27;dt&#x27;, DecisionTreeClassifier())])</pre></div></div></div><div class=\"sk-parallel\"><div class=\"sk-parallel-item\"><div class=\"sk-item\"><div class=\"sk-label-container\"><div class=\"sk-label sk-toggleable\"><label>logreg</label></div></div><div class=\"sk-serial\"><div class=\"sk-item\"><div class=\"sk-estimator sk-toggleable\"><input class=\"sk-toggleable__control sk-hidden--visually\" id=\"sk-estimator-id-10\" type=\"checkbox\" ><label for=\"sk-estimator-id-10\" class=\"sk-toggleable__label sk-toggleable__label-arrow\">LogisticRegression</label><div class=\"sk-toggleable__content\"><pre>LogisticRegression()</pre></div></div></div></div></div></div><div class=\"sk-parallel-item\"><div class=\"sk-item\"><div class=\"sk-label-container\"><div class=\"sk-label sk-toggleable\"><label>knn</label></div></div><div class=\"sk-serial\"><div class=\"sk-item\"><div class=\"sk-estimator sk-toggleable\"><input class=\"sk-toggleable__control sk-hidden--visually\" id=\"sk-estimator-id-11\" type=\"checkbox\" ><label for=\"sk-estimator-id-11\" class=\"sk-toggleable__label sk-toggleable__label-arrow\">KNeighborsClassifier</label><div class=\"sk-toggleable__content\"><pre>KNeighborsClassifier()</pre></div></div></div></div></div></div><div class=\"sk-parallel-item\"><div class=\"sk-item\"><div class=\"sk-label-container\"><div class=\"sk-label sk-toggleable\"><label>dt</label></div></div><div class=\"sk-serial\"><div class=\"sk-item\"><div class=\"sk-estimator sk-toggleable\"><input class=\"sk-toggleable__control sk-hidden--visually\" id=\"sk-estimator-id-12\" type=\"checkbox\" ><label for=\"sk-estimator-id-12\" class=\"sk-toggleable__label sk-toggleable__label-arrow\">DecisionTreeClassifier</label><div class=\"sk-toggleable__content\"><pre>DecisionTreeClassifier()</pre></div></div></div></div></div></div></div></div></div></div>"
            ]
          },
          "metadata": {},
          "execution_count": 69
        }
      ]
    },
    {
      "cell_type": "code",
      "source": [
        "# Evaluate the performance of the ensemble on the testing data\n",
        "print(f\"Accuracy of the ensemble: {ensemble.score(x_test, y_test)*100} %\")"
      ],
      "metadata": {
        "colab": {
          "base_uri": "https://localhost:8080/"
        },
        "id": "-E4p-I-K6F3u",
        "outputId": "74dc11c8-cdb1-4815-9327-1af52f23a6aa"
      },
      "id": "-E4p-I-K6F3u",
      "execution_count": 71,
      "outputs": [
        {
          "output_type": "stream",
          "name": "stdout",
          "text": [
            "Accuracy of the ensemble: 91.83673469387756 %\n"
          ]
        }
      ]
    },
    {
      "cell_type": "code",
      "source": [
        "from sklearn.ensemble import VotingClassifier\n",
        "from sklearn.linear_model import LogisticRegression\n",
        "from sklearn.neighbors import KNeighborsClassifier\n",
        "from sklearn.tree import DecisionTreeClassifier\n",
        "from sklearn.ensemble import StackingClassifier\n",
        "\n",
        "\n",
        "# Initialize individual classifier models\n",
        "logreg = LogisticRegression()\n",
        "knn = KNeighborsClassifier()\n",
        "dt = DecisionTreeClassifier()\n",
        "\n",
        "# Create a stacking ensemble\n",
        "stack = StackingClassifier(estimators=[('logreg', logreg), ('knn', knn), ('dt', dt)], final_estimator=LogisticRegression())\n",
        "\n",
        "# Fit ensemble on data\n",
        "stack.fit(X, y)\n",
        "\n",
        "# Make predictions\n",
        "y_pred = stack.predict(X)\n",
        "\n",
        "# Evaluate performance\n",
        "acc = accuracy_score(y, y_pred)\n",
        "acc = acc*100\n",
        "print(f'Accuracy: {acc:.2f} %')"
      ],
      "metadata": {
        "colab": {
          "base_uri": "https://localhost:8080/"
        },
        "id": "ALPS_CXA5-se",
        "outputId": "24840555-8f26-4561-9597-4229e1ea2e27"
      },
      "id": "ALPS_CXA5-se",
      "execution_count": 73,
      "outputs": [
        {
          "output_type": "stream",
          "name": "stdout",
          "text": [
            "Accuracy: 85.42 %\n"
          ]
        }
      ]
    },
    {
      "cell_type": "code",
      "source": [
        "from sklearn.ensemble import BaggingClassifier\n",
        "\n",
        "# Create a bagging ensemble\n",
        "bag = BaggingClassifier(base_estimator=dt, n_estimators=10)\n",
        "\n",
        "# Fit ensemble on data\n",
        "bag.fit(X, y)\n",
        "\n",
        "# Make predictions\n",
        "y_pred = bag.predict(X)\n",
        "\n",
        "# Evaluate performance\n",
        "acc = accuracy_score(y, y_pred)\n",
        "acc = acc *100\n",
        "print(f'Accuracy: {acc:.2f} %')"
      ],
      "metadata": {
        "colab": {
          "base_uri": "https://localhost:8080/"
        },
        "id": "FVXdvNt_7Dur",
        "outputId": "376801f6-9c8c-4be7-ba0f-e71e63a574ca"
      },
      "id": "FVXdvNt_7Dur",
      "execution_count": 75,
      "outputs": [
        {
          "output_type": "stream",
          "name": "stdout",
          "text": [
            "Accuracy: 98.70 %\n"
          ]
        }
      ]
    },
    {
      "cell_type": "markdown",
      "id": "77be3b66",
      "metadata": {
        "papermill": {
          "duration": 0.066285,
          "end_time": "2022-01-20T02:34:56.316043",
          "exception": false,
          "start_time": "2022-01-20T02:34:56.249758",
          "status": "completed"
        },
        "tags": [],
        "id": "77be3b66"
      },
      "source": [
        "# 10.CHECKING FOR THE USER INPUT:"
      ]
    },
    {
      "cell_type": "code",
      "execution_count": 70,
      "id": "f86a7356",
      "metadata": {
        "execution": {
          "iopub.execute_input": "2022-01-20T02:34:56.455386Z",
          "iopub.status.busy": "2022-01-20T02:34:56.454757Z",
          "iopub.status.idle": "2022-01-20T02:34:56.467623Z",
          "shell.execute_reply": "2022-01-20T02:34:56.468242Z",
          "shell.execute_reply.started": "2022-01-19T18:36:03.366186Z"
        },
        "papermill": {
          "duration": 0.085743,
          "end_time": "2022-01-20T02:34:56.468413",
          "exception": false,
          "start_time": "2022-01-20T02:34:56.382670",
          "status": "completed"
        },
        "tags": [],
        "colab": {
          "base_uri": "https://localhost:8080/"
        },
        "id": "f86a7356",
        "outputId": "ff5fd0f6-69e5-42b1-8541-f9991356b071"
      },
      "outputs": [
        {
          "output_type": "stream",
          "name": "stdout",
          "text": [
            "The weather is:\n",
            "Rain\n"
          ]
        }
      ],
      "source": [
        "input=[[1.140175,8.9,2.8,2.469818]]\n",
        "ensemblemodel=ensemble.predict(input)\n",
        "print(\"The weather is:\")\n",
        "if(ensemblemodel==0):\n",
        "    print(\"Drizzle\")\n",
        "elif(ensemblemodel==1):\n",
        "    print(\"Fog\")\n",
        "elif(ensemblemodel==2):\n",
        "    print(\"Rain\")\n",
        "elif(ensemblemodel==3):\n",
        "    print(\"snow\")\n",
        "else:\n",
        "    print(\"Sun\")"
      ]
    }
  ],
  "metadata": {
    "kernelspec": {
      "display_name": "Python 3",
      "language": "python",
      "name": "python3"
    },
    "language_info": {
      "codemirror_mode": {
        "name": "ipython",
        "version": 3
      },
      "file_extension": ".py",
      "mimetype": "text/x-python",
      "name": "python",
      "nbconvert_exporter": "python",
      "pygments_lexer": "ipython3",
      "version": "3.7.12"
    },
    "papermill": {
      "default_parameters": {},
      "duration": 30.793591,
      "end_time": "2022-01-20T02:34:57.346390",
      "environment_variables": {},
      "exception": null,
      "input_path": "__notebook__.ipynb",
      "output_path": "__notebook__.ipynb",
      "parameters": {},
      "start_time": "2022-01-20T02:34:26.552799",
      "version": "2.3.3"
    },
    "colab": {
      "provenance": []
    }
  },
  "nbformat": 4,
  "nbformat_minor": 5
}